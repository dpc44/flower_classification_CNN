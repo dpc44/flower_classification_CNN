{
 "cells": [
  {
   "cell_type": "markdown",
   "metadata": {},
   "source": [
    "# First model (paper: flower classification via CNN) "
   ]
  },
  {
   "cell_type": "code",
   "execution_count": 1,
   "metadata": {},
   "outputs": [],
   "source": [
    "#!pip install split-folders"
   ]
  },
  {
   "cell_type": "code",
   "execution_count": 2,
   "metadata": {},
   "outputs": [],
   "source": [
    "from keras.models import Model\n",
    "from keras.optimizers import Adam\n",
    "from keras.applications.vgg16 import VGG16, preprocess_input\n",
    "from keras.preprocessing.image import ImageDataGenerator, array_to_img, img_to_array, load_img\n",
    "from keras.callbacks import ModelCheckpoint, EarlyStopping\n",
    "from keras.layers import Dense, Dropout, Flatten, AveragePooling2D\n",
    "from tensorflow.keras import layers\n",
    "from tensorflow.keras.models import Sequential\n",
    "from tensorflow.keras import regularizers\n",
    "from pathlib import Path\n",
    "from tensorflow import keras\n",
    "from livelossplot.inputs.keras import PlotLossesCallback\n",
    "import matplotlib.pyplot as plt\n",
    "import numpy as np\n",
    "import os\n",
    "import tensorflow as tf\n",
    "import pickle\n"
   ]
  },
  {
   "cell_type": "code",
   "execution_count": 3,
   "metadata": {},
   "outputs": [],
   "source": [
    "batch_size = 2\n",
    "train= tf.keras.preprocessing.image.ImageDataGenerator(shear_range=0.2, \n",
    "                                                       zoom_range=0.2, \n",
    "                                                       )\n",
    "\n",
    "#train= tf.keras.preprocessing.image.ImageDataGenerator(shear_range=0.2, rotation_range=90, \n",
    "#                                                     width_shift_range=0.5, \n",
    "#                                                     height_shift_range=0.5,\n",
    "#                                                     zoom_range=0.2,\n",
    " #                                                    horizontal_flip=True, \n",
    "#                                                     vertical_flip=True,\n",
    "#                                                     preprocessing_function=preprocess_input)\n",
    "\n",
    "\n",
    "test= tf.keras.preprocessing.image.ImageDataGenerator()"
   ]
  },
  {
   "cell_type": "markdown",
   "metadata": {},
   "source": [
    "# work on train dataset"
   ]
  },
  {
   "cell_type": "code",
   "execution_count": 4,
   "metadata": {},
   "outputs": [
    {
     "name": "stdout",
     "output_type": "stream",
     "text": [
      "Found 6005 images belonging to 102 classes.\n"
     ]
    }
   ],
   "source": [
    "traingen = train.flow_from_directory(directory=\"train\",\n",
    "                                        target_size=(224,224), \n",
    "                                        class_mode='categorical',\n",
    "                                        #shuffle= True,\n",
    "                                        )"
   ]
  },
  {
   "cell_type": "code",
   "execution_count": 5,
   "metadata": {},
   "outputs": [
    {
     "name": "stdout",
     "output_type": "stream",
     "text": [
      "Found 1019 images belonging to 102 classes.\n"
     ]
    }
   ],
   "source": [
    "validgen = test.flow_from_directory(directory=\"val\", \n",
    "                                   target_size=(224,224), \n",
    "                                   class_mode='categorical',\n",
    "                                    #shuffle= True,\n",
    "                                    )"
   ]
  },
  {
   "cell_type": "code",
   "execution_count": 6,
   "metadata": {},
   "outputs": [
    {
     "data": {
      "text/plain": [
       "(1, 500, 667, 3)"
      ]
     },
     "execution_count": 6,
     "metadata": {},
     "output_type": "execute_result"
    }
   ],
   "source": [
    "pic = load_img(\"image_00070.jpg\")\n",
    "pic_array = img_to_array(pic)\n",
    "pic_array = pic_array.reshape((1, )+ pic_array.shape)\n",
    "pic_array.shape"
   ]
  },
  {
   "cell_type": "code",
   "execution_count": 7,
   "metadata": {},
   "outputs": [],
   "source": [
    "kernel_regularizer1 = tf.keras.regularizers.l1(0.01)\n",
    "activity_regularizer2 = tf.keras.regularizers.l2(0.01)"
   ]
  },
  {
   "cell_type": "code",
   "execution_count": 8,
   "metadata": {},
   "outputs": [],
   "source": [
    "input_shape = (224, 224, 3)\n",
    "\n",
    "model = Sequential([\n",
    "  layers.experimental.preprocessing.Rescaling(1./255, input_shape=input_shape),\n",
    "  layers.Conv2D(64, 5 , padding='same', activation='relu'),\n",
    "  layers.MaxPooling2D(pool_size=(3, 3)),\n",
    "    \n",
    "  layers.Conv2D(128, 5, padding='same', activation='relu'),\n",
    "  layers.MaxPooling2D(pool_size=(3, 3)),\n",
    "    \n",
    "  layers.Conv2D(256, 3, padding='same', activation='relu'),\n",
    "  layers.MaxPooling2D(pool_size=(3, 3)),\n",
    "    \n",
    "  layers.Conv2D(512, 3, padding='same', activation='relu'), \n",
    "  #layers.Conv2D(512, 3, padding='same', activation='relu'),   \n",
    "  layers.MaxPooling2D(pool_size=(3, 3)),\n",
    "    \n",
    "    \n",
    "  \n",
    "  layers.Flatten(),\n",
    "  layers.Dense(4096, activation='relu'),\n",
    "  layers.Dropout(0.5),\n",
    "  layers.Dense(512, activation='relu'),\n",
    "  layers.Dropout(0.5),\n",
    "  layers.Dense(102)\n",
    "])"
   ]
  },
  {
   "cell_type": "code",
   "execution_count": 9,
   "metadata": {},
   "outputs": [
    {
     "name": "stdout",
     "output_type": "stream",
     "text": [
      "Model: \"sequential\"\n",
      "_________________________________________________________________\n",
      "Layer (type)                 Output Shape              Param #   \n",
      "=================================================================\n",
      "rescaling (Rescaling)        (None, 224, 224, 3)       0         \n",
      "_________________________________________________________________\n",
      "conv2d (Conv2D)              (None, 224, 224, 64)      4864      \n",
      "_________________________________________________________________\n",
      "max_pooling2d (MaxPooling2D) (None, 74, 74, 64)        0         \n",
      "_________________________________________________________________\n",
      "conv2d_1 (Conv2D)            (None, 74, 74, 128)       204928    \n",
      "_________________________________________________________________\n",
      "max_pooling2d_1 (MaxPooling2 (None, 24, 24, 128)       0         \n",
      "_________________________________________________________________\n",
      "conv2d_2 (Conv2D)            (None, 24, 24, 256)       295168    \n",
      "_________________________________________________________________\n",
      "max_pooling2d_2 (MaxPooling2 (None, 8, 8, 256)         0         \n",
      "_________________________________________________________________\n",
      "conv2d_3 (Conv2D)            (None, 8, 8, 512)         1180160   \n",
      "_________________________________________________________________\n",
      "max_pooling2d_3 (MaxPooling2 (None, 2, 2, 512)         0         \n",
      "_________________________________________________________________\n",
      "flatten (Flatten)            (None, 2048)              0         \n",
      "_________________________________________________________________\n",
      "dense (Dense)                (None, 4096)              8392704   \n",
      "_________________________________________________________________\n",
      "dropout (Dropout)            (None, 4096)              0         \n",
      "_________________________________________________________________\n",
      "dense_1 (Dense)              (None, 512)               2097664   \n",
      "_________________________________________________________________\n",
      "dropout_1 (Dropout)          (None, 512)               0         \n",
      "_________________________________________________________________\n",
      "dense_2 (Dense)              (None, 102)               52326     \n",
      "=================================================================\n",
      "Total params: 12,227,814\n",
      "Trainable params: 12,227,814\n",
      "Non-trainable params: 0\n",
      "_________________________________________________________________\n"
     ]
    }
   ],
   "source": [
    "model.summary()"
   ]
  },
  {
   "cell_type": "code",
   "execution_count": 10,
   "metadata": {},
   "outputs": [],
   "source": [
    "optim_1 = Adam(learning_rate=0.0001, decay=0.0001/100)\n",
    "n_classes=102\n",
    "\n",
    "n_steps = len(traingen)//batch_size\n",
    "n_val_steps = len(validgen)//batch_size\n",
    "n_epochs = 50\n"
   ]
  },
  {
   "cell_type": "code",
   "execution_count": 11,
   "metadata": {},
   "outputs": [],
   "source": [
    "plot_loss_1 = PlotLossesCallback()\n",
    "\n",
    "# ModelCheckpoint callback - save best weights\n",
    "tl_checkpoint_1 = ModelCheckpoint(filepath='Custome.hdf5',\n",
    "                                  save_best_only=True,\n",
    "                                  verbose=1)\n",
    "\n",
    "# EarlyStopping\n",
    "early_stop = EarlyStopping(monitor=optim_1,\n",
    "                           patience=10,\n",
    "                           restore_best_weights=True,\n",
    "                           mode='min')"
   ]
  },
  {
   "cell_type": "code",
   "execution_count": 12,
   "metadata": {},
   "outputs": [],
   "source": [
    "model.compile(optimizer='adam',\n",
    "              loss='categorical_crossentropy',\n",
    "              metrics=['accuracy'])"
   ]
  },
  {
   "cell_type": "code",
   "execution_count": null,
   "metadata": {},
   "outputs": [
    {
     "data": {
      "image/png": "[encoded data removed]",
      "text/plain": [
       "<Figure size 864x576 with 2 Axes>"
      ]
     },
     "metadata": {
      "needs_background": "light"
     },
     "output_type": "display_data"
    },
    {
     "name": "stdout",
     "output_type": "stream",
     "text": [
      "accuracy\n",
      "\ttraining         \t (min:    0.014, max:    0.020, cur:    0.016)\n",
      "\tvalidation       \t (min:    0.006, max:    0.020, cur:    0.020)\n",
      "Loss\n",
      "\ttraining         \t (min:    8.411, max:    8.811, cur:    8.411)\n",
      "\tvalidation       \t (min:    7.655, max:    9.348, cur:    7.655)\n",
      "94/94 [==============================] - 50s 536ms/step - loss: 8.4112 - accuracy: 0.0156 - val_loss: 7.6554 - val_accuracy: 0.0195\n",
      "Epoch 4/50\n",
      " 9/94 [=>............................] - ETA: 1:45 - loss: 8.0315 - accuracy: 0.0243"
     ]
    }
   ],
   "source": [
    "epochs=20\n",
    "history = model.fit(traingen,\n",
    "                    epochs=n_epochs,\n",
    "                    validation_data=validgen,\n",
    "                    steps_per_epoch=n_steps,\n",
    "                    validation_steps=n_val_steps,\n",
    "                    callbacks=[tl_checkpoint_1, early_stop, plot_loss_1],\n",
    "                    )"
   ]
  },
  {
   "cell_type": "markdown",
   "metadata": {},
   "source": [
    "# testing + evaluation"
   ]
  },
  {
   "cell_type": "code",
   "execution_count": null,
   "metadata": {},
   "outputs": [],
   "source": [
    "dataset_test =\"test\"\n",
    "test_dir = pathlib.Path(dataset_test)"
   ]
  },
  {
   "cell_type": "code",
   "execution_count": null,
   "metadata": {},
   "outputs": [],
   "source": [
    "data1_image = list(test_dir.glob('*/*.jpg'))\n",
    "image1_count = len(data1_image)\n",
    "print(image1_count)"
   ]
  },
  {
   "cell_type": "code",
   "execution_count": null,
   "metadata": {},
   "outputs": [],
   "source": [
    "test_ds = tf.keras.preprocessing.image_dataset_from_directory(\n",
    "  test_dir,\n",
    "  seed=123,\n",
    "  image_size=(img_height, img_width),\n",
    "  batch_size=batch_size)"
   ]
  },
  {
   "cell_type": "code",
   "execution_count": null,
   "metadata": {},
   "outputs": [],
   "source": [
    "results = model.evaluate(test_ds, batch_size = 90)"
   ]
  },
  {
   "cell_type": "code",
   "execution_count": null,
   "metadata": {},
   "outputs": [],
   "source": [
    "results"
   ]
  },
  {
   "cell_type": "code",
   "execution_count": null,
   "metadata": {},
   "outputs": [],
   "source": [
    "test_data_image = list(test_dir.glob('*/*.jpg'))"
   ]
  },
  {
   "cell_type": "markdown",
   "metadata": {},
   "source": [
    "# predict\n",
    "x = []\n",
    "for img_path in test_data_image:\n",
    "    img = keras.preprocessing.image.load_img( img_path, target_size=(img_height, img_width) )\n",
    "    img_array = keras.preprocessing.image.img_to_array(img)\n",
    "    img_array = tf.expand_dims(img_array, 0)\n",
    "    prediction = model.predict(img_array)\n",
    "    score = tf.nn.softmax(prediction[0])\n",
    "    print(class_names[np.argmax(score)], \" with \", 100 * np.max(score))\n",
    "    x.append(score)"
   ]
  },
  {
   "cell_type": "markdown",
   "metadata": {},
   "source": [
    "# VISUAL"
   ]
  },
  {
   "cell_type": "code",
   "execution_count": null,
   "metadata": {},
   "outputs": [],
   "source": [
    "acc = history.history['accuracy']\n",
    "val_acc = history.history['val_accuracy']\n",
    "\n",
    "loss = history.history['loss']\n",
    "val_loss = history.history['val_loss']\n",
    "\n",
    "epochs_range = range(epochs)\n",
    "\n",
    "plt.figure(figsize=(8, 8))\n",
    "plt.subplot(1, 2, 1)\n",
    "plt.plot(epochs_range, acc, label='Training Accuracy')\n",
    "plt.plot(epochs_range, val_acc, label='Validation Accuracy')\n",
    "plt.legend(loc='lower right')\n",
    "plt.title('Training and Validation Accuracy')\n",
    "\n",
    "plt.subplot(1, 2, 2)\n",
    "plt.plot(epochs_range, loss, label='Training Loss')\n",
    "plt.plot(epochs_range, val_loss, label='Validation Loss')\n",
    "plt.legend(loc='upper right')\n",
    "plt.title('Training and Validation Loss')\n",
    "plt.show()"
   ]
  },
  {
   "cell_type": "markdown",
   "metadata": {},
   "source": [
    "What did you implement ?\n",
    "\n",
    "\n",
    "\n",
    "What are the model features ? Architecture ? Parameters ? \n",
    "\n",
    "What is the dataset ?\n",
    "\n",
    "What is the performance ?\n",
    "\n",
    "What are the problems ?\n",
    "\n",
    "How will you fix them ?\n"
   ]
  }
 ],
 "metadata": {
  "kernelspec": {
   "display_name": "Python 3",
   "language": "python",
   "name": "python3"
  },
  "language_info": {
   "codemirror_mode": {
    "name": "ipython",
    "version": 3
   },
   "file_extension": ".py",
   "mimetype": "text/x-python",
   "name": "python",
   "nbconvert_exporter": "python",
   "pygments_lexer": "ipython3",
   "version": "3.8.5"
  }
 },
 "nbformat": 4,
 "nbformat_minor": 5
}
